{
 "cells": [
  {
   "cell_type": "code",
   "execution_count": 11,
   "metadata": {},
   "outputs": [
    {
     "name": "stdout",
     "output_type": "stream",
     "text": [
      "0    1\n",
      "1    2\n",
      "2    3\n",
      "3    4\n",
      "4    5\n",
      "Name: one, dtype: int64\n"
     ]
    }
   ],
   "source": [
    "import pandas as pd\n",
    "dic={'one':[1,2,3,4,5], 'two':[6,7,8,9,10], 'three':range(10,15)}\n",
    "df2=pd.DataFrame(dic)\n",
    "print(df2['one'])"
   ]
  },
  {
   "cell_type": "code",
   "execution_count": 12,
   "metadata": {},
   "outputs": [
    {
     "ename": "SyntaxError",
     "evalue": "(unicode error) 'unicodeescape' codec can't decode bytes in position 2-3: truncated \\UXXXXXXXX escape (<ipython-input-12-87be90e15edf>, line 8)",
     "output_type": "error",
     "traceback": [
      "\u001b[1;36m  File \u001b[1;32m\"<ipython-input-12-87be90e15edf>\"\u001b[1;36m, line \u001b[1;32m8\u001b[0m\n\u001b[1;33m    data = pd.read_csv(\"C:\\Users\\suhru\\Desktop\\Programming\\Assignment (2)\\Assignment\\Assignment3\\data22.csv\")\u001b[0m\n\u001b[1;37m                      ^\u001b[0m\n\u001b[1;31mSyntaxError\u001b[0m\u001b[1;31m:\u001b[0m (unicode error) 'unicodeescape' codec can't decode bytes in position 2-3: truncated \\UXXXXXXXX escape\n"
     ]
    }
   ],
   "source": [
    "import numpy as np\n",
    "import pandas as pd\n",
    "from sklearn.linear_model import LinearRegression\n",
    "from sklearn.model_selection import train_test_split\n",
    "from sklearn import metrics\n",
    "import matplotlib.pyplot as plt\n",
    "\n",
    "data = pd.read_csv(\"C:\\Users\\suhru\\Desktop\\Programming\\Assignment (2)\\Assignment\\Assignment3\\data22.csv\")\n",
    "# array = []\n",
    "x = data[['TV','radio','newspaper']]\n",
    "y= data.sales # EQUALS TO data['sales']\n",
    "\n",
    "X_train,X_test,y_train,y_test = train_test_split(x,y,random_state=50)\n",
    "linearreg = LinearRegression()\n",
    "linearreg.fit(X_train,y_train)\n",
    "\n",
    "y_predict = linearreg.predict(X_test)\n",
    "print(np.sqrt(metrics.mean_squared_error(y_test,y_predict)))\n",
    "\n",
    "plt.plot(X_test[\"TV\"],y_predict,'k*')\n",
    "plt.plot(X_test['TV'],y_test,'r.')\n",
    "plt.show()\n",
    "\n"
   ]
  },
  {
   "cell_type": "code",
   "execution_count": null,
   "metadata": {},
   "outputs": [],
   "source": []
  }
 ],
 "metadata": {
  "kernelspec": {
   "display_name": "Python 3",
   "language": "python",
   "name": "python3"
  },
  "language_info": {
   "codemirror_mode": {
    "name": "ipython",
    "version": 3
   },
   "file_extension": ".py",
   "mimetype": "text/x-python",
   "name": "python",
   "nbconvert_exporter": "python",
   "pygments_lexer": "ipython3",
   "version": "3.7.3"
  }
 },
 "nbformat": 4,
 "nbformat_minor": 2
}
