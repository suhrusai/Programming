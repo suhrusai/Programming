{
 "cells": [
  {
   "cell_type": "code",
   "execution_count": 26,
   "metadata": {
    "scrolled": false
   },
   "outputs": [
    {
     "name": "stdout",
     "output_type": "stream",
     "text": [
      "1.4560791402121016\n"
     ]
    },
    {
     "data": {
      "image/png": "[encoded data removed]",
      "text/plain": [
       "<Figure size 432x288 with 1 Axes>"
      ]
     },
     "metadata": {
      "needs_background": "light"
     },
     "output_type": "display_data"
    }
   ],
   "source": [
    "import numpy as np\n",
    "import pandas as pd\n",
    "from sklearn.linear_model import LinearRegression\n",
    "from sklearn.model_selection import train_test_split\n",
    "from sklearn import metrics\n",
    "import matplotlib.pyplot as plt\n",
    "\n",
    "data = pd.read_csv(\"data2.csv\")\n",
    "# array = []\n",
    "x = data[['TV','radio','newspaper']]\n",
    "y= data.sales # EQUALS TO data['sales']\n",
    "X_train,X_test,y_train,y_test = train_test_split(x,y,random_state=50)\n",
    "linearreg = LinearRegression()\n",
    "linearreg.fit(X_train,y_train)\n",
    "\n",
    "y_predict = linearreg.predict(X_test)\n",
    "print(np.sqrt(metrics.mean_squared_error(y_test,y_predict)))\n",
    "\n",
    "plt.plot(X_test[\"TV\"],y_predict,'k*')\n",
    "plt.plot(X_test['TV'],y_test,'r.')\n",
    "plt.show()\n",
    "\n"
   ]
  },
  {
   "cell_type": "code",
   "execution_count": 2,
   "metadata": {},
   "outputs": [
    {
     "name": "stdout",
     "output_type": "stream",
     "text": [
      "[ 4  6  8 10]\n"
     ]
    }
   ],
   "source": [
    "import numpy as np \n",
    "arr=np.arange(4,11,2)\n",
    "print(arr)\n"
   ]
  },
  {
   "cell_type": "code",
   "execution_count": 3,
   "metadata": {},
   "outputs": [
    {
     "data": {
      "text/plain": [
       "7.0"
      ]
     },
     "execution_count": 3,
     "metadata": {},
     "output_type": "execute_result"
    }
   ],
   "source": [
    "\n",
    "arr.mean()"
   ]
  },
  {
   "cell_type": "code",
   "execution_count": 4,
   "metadata": {},
   "outputs": [
    {
     "data": {
      "text/plain": [
       "array([ 4,  6,  8, 10,  1,  2,  3,  4])"
      ]
     },
     "execution_count": 4,
     "metadata": {},
     "output_type": "execute_result"
    }
   ],
   "source": [
    "np.append(arr,[1,2,3,4])"
   ]
  },
  {
   "cell_type": "code",
   "execution_count": 24,
   "metadata": {
    "scrolled": true
   },
   "outputs": [
    {
     "ename": "SyntaxError",
     "evalue": "(unicode error) 'unicodeescape' codec can't decode bytes in position 2-3: truncated \\UXXXXXXXX escape (<ipython-input-24-f87c06aa6dcd>, line 55)",
     "output_type": "error",
     "traceback": [
      "\u001b[1;36m  File \u001b[1;32m\"<ipython-input-24-f87c06aa6dcd>\"\u001b[1;36m, line \u001b[1;32m55\u001b[0m\n\u001b[1;33m    file = open(\"C:\\Users\\suhru\\Downloads\\friend.txt\",\"r\")\u001b[0m\n\u001b[1;37m               ^\u001b[0m\n\u001b[1;31mSyntaxError\u001b[0m\u001b[1;31m:\u001b[0m (unicode error) 'unicodeescape' codec can't decode bytes in position 2-3: truncated \\UXXXXXXXX escape\n"
     ]
    }
   ],
   "source": [
    "#!/usr/bin/env python\n",
    "# coding: utf-8\n",
    "\n",
    "# In[331]:\n",
    "\n",
    "\n",
    "import nltk\n",
    "\n",
    "\n",
    "# In[332]:\n",
    "\n",
    "\n",
    "import pandas as pd\n",
    "\n",
    "\n",
    "# In[333]:\n",
    "\n",
    "\n",
    "from nltk.probability import FreqDist\n",
    "\n",
    "\n",
    "# In[334]:\n",
    "\n",
    "\n",
    "from nltk.corpus import stopwords\n",
    "\n",
    "\n",
    "# In[335]:\n",
    "\n",
    "\n",
    "import string\n",
    "\n",
    "\n",
    "# In[336]:\n",
    "\n",
    "\n",
    "import matplotlib.pyplot as plt\n",
    "\n",
    "\n",
    "# In[337]:\n",
    "\n",
    "\n",
    "nltk.download('punkt')\n",
    "\n",
    "\n",
    "# In[338]:\n",
    "\n",
    "\n",
    "nltk.download(\"stopwords\")\n",
    "\n",
    "\n",
    "# In[339]:\n",
    "\n",
    "\n",
    "file = open(\"C:\\Users\\suhru\\Downloads\\friend.txt\",\"r\")\n",
    "\n",
    "\n",
    "# In[340]:\n",
    "\n",
    "\n",
    "doc = file.read()\n",
    "\n",
    "\n",
    "# In[341]:\n",
    "\n",
    "\n",
    "print(doc)\n",
    "\n",
    "\n",
    "# In[342]:\n",
    "\n",
    "\n",
    "text = \"\".join(i for i in doc if not i.isdigit())\n",
    "\n",
    "\n",
    "# In[343]:\n",
    "\n",
    "\n",
    "text = \"\".join(i for i in text if i not in string.punctuation)\n",
    "\n",
    "\n",
    "# In[344]:\n",
    "\n",
    "\n",
    "text = \"\".join(i for i in text if i not in \"\\n\").lower()\n",
    "\n",
    "\n",
    "# In[345]:\n",
    "\n",
    "\n",
    "txt = \" \".join(i for i in text.split() if i not in (stopwords.words('english')) )\n",
    "\n",
    "\n",
    "# In[357]:\n",
    "\n",
    "\n",
    "print(txt)\n",
    "\n",
    "\n",
    "# In[347]:\n",
    "\n",
    "\n",
    "words = nltk.tokenize.word_tokenize(txt)\n",
    "\n",
    "\n",
    "# In[348]:\n",
    "\n",
    "\n",
    "words\n",
    "\n",
    "\n",
    "# In[349]:\n",
    "\n",
    "\n",
    "fdis = FreqDist(words)\n",
    "\n",
    "\n",
    "# In[350]:\n",
    "\n",
    "\n",
    "fdis\n",
    "\n",
    "\n",
    "# In[351]:\n",
    "\n",
    "\n",
    "df = pd.DataFrame(fdis,index = [0]).T\n",
    "\n",
    "\n",
    "# In[352]:\n",
    "\n",
    "\n",
    "df.columns = ['freq']\n",
    "\n",
    "\n",
    "# In[353]:\n",
    "\n",
    "\n",
    "df = df.sort_values(by = 'freq',ascending = False)\n",
    "\n",
    "\n",
    "# In[354]:\n",
    "\n",
    "\n",
    "plt.figure(figsize=(16,9))\n",
    "\n",
    "\n",
    "# In[356]:\n",
    "\n",
    "\n",
    "df[0:40].plot(kind = \"bar\")\n"
   ]
  },
  {
   "cell_type": "code",
   "execution_count": null,
   "metadata": {},
   "outputs": [],
   "source": []
  },
  {
   "cell_type": "code",
   "execution_count": null,
   "metadata": {},
   "outputs": [],
   "source": []
  },
  {
   "cell_type": "code",
   "execution_count": null,
   "metadata": {},
   "outputs": [],
   "source": []
  },
  {
   "cell_type": "code",
   "execution_count": null,
   "metadata": {},
   "outputs": [],
   "source": []
  }
 ],
 "metadata": {
  "kernelspec": {
   "display_name": "Python 3",
   "language": "python",
   "name": "python3"
  }
 },
 "nbformat": 4,
 "nbformat_minor": 2
}
